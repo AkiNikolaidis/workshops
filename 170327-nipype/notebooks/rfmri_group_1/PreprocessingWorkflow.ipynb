{
 "cells": [
  {
   "cell_type": "code",
   "execution_count": 1,
   "metadata": {},
   "outputs": [],
   "source": [
    "##### Steps- \n",
    "#1 Import Workflow; \n",
    "#2 Import Interfaces; \n",
    "#3 Define Nodes; \n",
    "#4 Define Specific Node Inputs, Outputs, and Arguments\n",
    "#5 Define workflow \n",
    "#6 Add Workflow connect \n",
    "#7 Image Workflow\n",
    "#8 Run Workflow"
   ]
  },
  {
   "cell_type": "code",
   "execution_count": 2,
   "metadata": {},
   "outputs": [],
   "source": [
    "# 1- Import workflow elements\n",
    "from nipype import Node, Workflow"
   ]
  },
  {
   "cell_type": "code",
   "execution_count": 3,
   "metadata": {},
   "outputs": [],
   "source": [
    "# 2- Import necessary interfaces"
   ]
  },
  {
   "cell_type": "code",
   "execution_count": 4,
   "metadata": {},
   "outputs": [],
   "source": [
    "from nipype.interfaces import fsl\n",
    "from IPython.display import Image"
   ]
  },
  {
   "cell_type": "code",
   "execution_count": 5,
   "metadata": {},
   "outputs": [],
   "source": [
    "# 3- Define Nodes"
   ]
  },
  {
   "cell_type": "code",
   "execution_count": 10,
   "metadata": {},
   "outputs": [],
   "source": [
    "node_bet = Node(fsl.BET(out_file = \"brain.nii.gz\"), name = 'fsl_bet')\n",
    "node_mcflirt = Node(fsl.MCFLIRT(save_mats=True, save_plots=True), name='motion_corr')"
   ]
  },
  {
   "cell_type": "code",
   "execution_count": 11,
   "metadata": {},
   "outputs": [],
   "source": [
    "# 4- Define Specific Node Inputs, Outputs, and Arguments"
   ]
  },
  {
   "cell_type": "code",
   "execution_count": 12,
   "metadata": {},
   "outputs": [],
   "source": [
    "node_bet.inputs.functional = True\n",
    "node_bet.inputs.in_file ='/home/jovyan/work/data/ds000114/sub-01/func/sub-01_task-linebisection_bold.nii.gz'\n",
    "#node.mcflirt."
   ]
  },
  {
   "cell_type": "code",
   "execution_count": 13,
   "metadata": {},
   "outputs": [],
   "source": [
    "# 5- Define Workflow"
   ]
  },
  {
   "cell_type": "code",
   "execution_count": 21,
   "metadata": {},
   "outputs": [],
   "source": [
    "wf = Workflow(name=\"Group_workflow\")\n",
    "wf.base_dir = 'Group_Test'"
   ]
  },
  {
   "cell_type": "code",
   "execution_count": 22,
   "metadata": {},
   "outputs": [],
   "source": [
    "# 6- Add Workflow connect"
   ]
  },
  {
   "cell_type": "code",
   "execution_count": 23,
   "metadata": {},
   "outputs": [],
   "source": [
    "wf.connect([\n",
    "    (node_bet, node_mcflirt, [(\"out_file\", \"in_file\")]),\n",
    "    #(node_tfm, node_vol, [(\"out_file\", \"in_file\")])\n",
    "])"
   ]
  },
  {
   "cell_type": "code",
   "execution_count": 24,
   "metadata": {},
   "outputs": [],
   "source": [
    "# 7- Image Workflow"
   ]
  },
  {
   "cell_type": "code",
   "execution_count": 25,
   "metadata": {},
   "outputs": [
    {
     "name": "stdout",
     "output_type": "stream",
     "text": [
      "170329-14:18:57,738 workflow INFO:\n",
      "\t Generated workflow graph: Group_Test/Group_workflow/graph.dot.png (graph2use=hierarchical, simple_form=True).\n"
     ]
    },
    {
     "data": {
      "image/png": "[encoded data removed]",
      "text/plain": [
       "<IPython.core.display.Image object>"
      ]
     },
     "execution_count": 25,
     "metadata": {},
     "output_type": "execute_result"
    }
   ],
   "source": [
    "Image(filename=wf.write_graph())"
   ]
  },
  {
   "cell_type": "code",
   "execution_count": 26,
   "metadata": {},
   "outputs": [],
   "source": [
    "# 8- Run Workflow"
   ]
  },
  {
   "cell_type": "code",
   "execution_count": 27,
   "metadata": {},
   "outputs": [
    {
     "name": "stdout",
     "output_type": "stream",
     "text": [
      "170329-14:18:59,63 workflow INFO:\n",
      "\t Workflow Group_workflow settings: ['check', 'execution', 'logging']\n",
      "170329-14:18:59,104 workflow INFO:\n",
      "\t Running serially.\n",
      "170329-14:18:59,106 workflow INFO:\n",
      "\t Executing node fsl_bet in dir: /home/jovyan/work/workshops/170327-nipype/notebooks/rfmri_group_1/Group_Test/Group_workflow/fsl_bet\n",
      "170329-14:18:59,172 workflow INFO:\n",
      "\t Running: bet /home/jovyan/work/data/ds000114/sub-01/func/sub-01_task-linebisection_bold.nii.gz brain.nii.gz -F\n",
      "170329-14:19:06,961 workflow INFO:\n",
      "\t Executing node motion_corr in dir: /home/jovyan/work/workshops/170327-nipype/notebooks/rfmri_group_1/Group_Test/Group_workflow/motion_corr\n",
      "170329-14:19:06,995 workflow INFO:\n",
      "\t Running: mcflirt -in /home/jovyan/work/workshops/170327-nipype/notebooks/rfmri_group_1/Group_Test/Group_workflow/fsl_bet/brain.nii.gz -out /home/jovyan/work/workshops/170327-nipype/notebooks/rfmri_group_1/Group_Test/Group_workflow/motion_corr/brain_mcf.nii.gz -mats -plots\n"
     ]
    },
    {
     "data": {
      "text/plain": [
       "<networkx.classes.digraph.DiGraph at 0x7f514666e710>"
      ]
     },
     "execution_count": 27,
     "metadata": {},
     "output_type": "execute_result"
    }
   ],
   "source": [
    "wf.run()"
   ]
  },
  {
   "cell_type": "code",
   "execution_count": null,
   "metadata": {},
   "outputs": [],
   "source": []
  }
 ],
 "metadata": {
  "kernelspec": {
   "display_name": "Python 3",
   "language": "python",
   "name": "python3"
  },
  "language_info": {
   "codemirror_mode": {
    "name": "ipython",
    "version": 3
   },
   "file_extension": ".py",
   "mimetype": "text/x-python",
   "name": "python",
   "nbconvert_exporter": "python",
   "pygments_lexer": "ipython3",
   "version": "3.5.2"
  }
 },
 "nbformat": 4,
 "nbformat_minor": 2
}
